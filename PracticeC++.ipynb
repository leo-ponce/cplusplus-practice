{
  "nbformat": 4,
  "nbformat_minor": 0,
  "metadata": {
    "colab": {
      "provenance": [],
      "authorship_tag": "ABX9TyMyHe1pLfNAYxE4x6MIeWqK",
      "include_colab_link": true
    },
    "kernelspec": {
      "name": "python3",
      "display_name": "Python 3"
    },
    "language_info": {
      "name": "python"
    }
  },
  "cells": [
    {
      "cell_type": "markdown",
      "metadata": {
        "id": "view-in-github",
        "colab_type": "text"
      },
      "source": [
        "<a href=\"https://colab.research.google.com/github/leo-ponce/cplusplus-practice/blob/main/PracticeC%2B%2B.ipynb\" target=\"_parent\"><img src=\"https://colab.research.google.com/assets/colab-badge.svg\" alt=\"Open In Colab\"/></a>"
      ]
    },
    {
      "cell_type": "code",
      "execution_count": null,
      "metadata": {
        "id": "31PO44oRY__6"
      },
      "outputs": [],
      "source": [
        "Leetcode\n",
        "\n",
        "1. Two Sum\n",
        "\n",
        "Given an array of integers nums and an integer target, return indices of the two numbers such that they add up to target.\n",
        "\n",
        "You may assume that each input would have exactly one solution, and you may not use the same element twice.\n",
        "\n",
        "You can return the answer in any order.\n",
        "\n",
        "\n",
        "\n",
        "Example 1:\n",
        "\n",
        "Input: nums = [2,7,11,15], target = 9\n",
        "Output: [0,1]\n",
        "Explanation: Because nums[0] + nums[1] == 9, we return [0, 1].\n",
        "\n",
        "Example 2:\n",
        "\n",
        "Input: nums = [3,2,4], target = 6\n",
        "Output: [1,2]\n",
        "\n",
        "Example 3:\n",
        "\n",
        "Input: nums = [3,3], target = 6\n",
        "Output: [0,1]\n",
        "\n",
        " \n",
        "\n",
        "Constraints:\n",
        "\n",
        "    2 <= nums.length <= 104\n",
        "    -109 <= nums[i] <= 109\n",
        "    -109 <= target <= 109\n",
        "    Only one valid answer exists.\n",
        "\n",
        " \n",
        "Follow-up: Can you come up with an algorithm that is less than O(n2) time complexity?"
      ]
    },
    {
      "cell_type": "code",
      "source": [
        "# pesudo: def add indicides of 2 numbers within the  entire array nums that add exactky to interger, target\n",
        "time complexity = https://www.freecodecamp.org/news/time-complexity-of-algorithms/\n",
        "array\n",
        "return function\n",
        "What does \"O(n2)\" mean in terms of time complexity?\n",
        "What is the public keyword in C++? vector? and?\n",
        "C++ file ending?\n",
        "C++ best learning resources and tooling"
      ],
      "metadata": {
        "id": "mgQ5TvWTZOHg"
      },
      "execution_count": null,
      "outputs": []
    },
    {
      "cell_type": "code",
      "source": [
        "\n",
        "\n",
        "\n",
        "class Solution {\n",
        "public:\n",
        "    vector<int> twoSum(vector<int>& nums, int target) {\n",
        "        \n",
        "    }\n",
        "};\n",
        "\n",
        "\n",
        "\n"
      ],
      "metadata": {
        "id": "9wcM3EcFJG-g"
      },
      "execution_count": null,
      "outputs": []
    },
    {
      "cell_type": "code",
      "source": [
        "#Solution\n",
        "class Solution {\n",
        "public:\n",
        "    vector<int> twoSum(vector<int> &nums, int target) {\n",
        "        unordered_map<int, int> visited;\n",
        "        int len = nums.size();\n",
        "        for (int i = 0; i < len; ++i) {\n",
        "            int n = nums[i];\n",
        "            int complement = target - n;\n",
        "            if (visited.count(complement)) {\n",
        "                return {visited[complement], i};\n",
        "            }\n",
        "            visited[n] = i;  // assume that each input would have exactly one solution\n",
        "        }\n",
        "        return {};\n",
        "    }\n",
        "}; "
      ],
      "metadata": {
        "id": "qtOKWjVGJ0jI"
      },
      "execution_count": null,
      "outputs": []
    }
  ]
}